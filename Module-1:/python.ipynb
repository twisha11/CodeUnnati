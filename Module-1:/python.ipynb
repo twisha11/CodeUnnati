{
 "cells": [
  {
   "cell_type": "markdown",
   "id": "a0ef9e4a",
   "metadata": {},
   "source": [
    "# Python Basics\n",
    "Python Fundamentals\n",
    "variables\n",
    "\n",
    "python coding"
   ]
  },
  {
   "cell_type": "code",
   "execution_count": 1,
   "id": "a62a5657",
   "metadata": {},
   "outputs": [
    {
     "name": "stdout",
     "output_type": "stream",
     "text": [
      "hello jhanvi\n"
     ]
    }
   ],
   "source": [
    "print(\"hello jhanvi\")"
   ]
  },
  {
   "cell_type": "code",
   "execution_count": 2,
   "id": "ef602806",
   "metadata": {},
   "outputs": [
    {
     "name": "stdout",
     "output_type": "stream",
     "text": [
      "hello Twisha\n"
     ]
    }
   ],
   "source": [
    "print(\"hello Twisha\")"
   ]
  },
  {
   "cell_type": "markdown",
   "id": "dc04d0cb",
   "metadata": {},
   "source": [
    "# Python variable"
   ]
  },
  {
   "cell_type": "code",
   "execution_count": 3,
   "id": "74bd63ab",
   "metadata": {},
   "outputs": [
    {
     "name": "stdout",
     "output_type": "stream",
     "text": [
      "python\n",
      "34\n",
      "99\n",
      "133\n"
     ]
    }
   ],
   "source": [
    "var1=\"python\"\n",
    "a=34\n",
    "b=99\n",
    "sum=a+b\n",
    "print(var1)\n",
    "print(a)\n",
    "print(b)\n",
    "print(sum)"
   ]
  },
  {
   "cell_type": "code",
   "execution_count": 4,
   "id": "cec6a80e",
   "metadata": {},
   "outputs": [
    {
     "name": "stdout",
     "output_type": "stream",
     "text": [
      "python\n",
      "130\n"
     ]
    }
   ],
   "source": [
    "var1=\"python\"\n",
    "a=31\n",
    "b=99\n",
    "sum=a+b\n",
    "print(var1)\n",
    "print(sum)"
   ]
  },
  {
   "cell_type": "code",
   "execution_count": null,
   "id": "91065a56",
   "metadata": {},
   "outputs": [],
   "source": [
    "a=67\n",
    "b=99.9999\n",
    "c=3.14j\n",
    "d=\"navratri\"\n",
    "e=True\n",
    "print(type (a))\n",
    "print(type (b))\n",
    "print(type (c))\n",
    "print(type (d))\n",
    "print(type (e))"
   ]
  },
  {
   "cell_type": "markdown",
   "id": "fd13f684",
   "metadata": {},
   "source": [
    "# Variable"
   ]
  },
  {
   "cell_type": "code",
   "execution_count": 8,
   "id": "b3c941e9",
   "metadata": {},
   "outputs": [
    {
     "data": {
      "text/plain": [
       "84.5"
      ]
     },
     "execution_count": 8,
     "metadata": {},
     "output_type": "execute_result"
    }
   ],
   "source": [
    "var1 = 40.5\n",
    "var2 = 44\n",
    "\n",
    "var3 = var1 + var2\n",
    "var3\n"
   ]
  },
  {
   "cell_type": "code",
   "execution_count": 7,
   "id": "0ce00433",
   "metadata": {},
   "outputs": [
    {
     "data": {
      "text/plain": [
       "0.9204545454545454"
      ]
     },
     "execution_count": 7,
     "metadata": {},
     "output_type": "execute_result"
    }
   ],
   "source": [
    "var6 = var1/var2\n",
    "var6\n"
   ]
  },
  {
   "cell_type": "code",
   "execution_count": 9,
   "id": "caff7d95",
   "metadata": {},
   "outputs": [
    {
     "data": {
      "text/plain": [
       "15"
      ]
     },
     "execution_count": 9,
     "metadata": {},
     "output_type": "execute_result"
    }
   ],
   "source": [
    "x,y,z = 13,14,15\n",
    "\n",
    "z\n"
   ]
  },
  {
   "cell_type": "code",
   "execution_count": 10,
   "id": "cddd80ae",
   "metadata": {},
   "outputs": [],
   "source": [
    "del z"
   ]
  },
  {
   "cell_type": "code",
   "execution_count": null,
   "id": "fbd578d7",
   "metadata": {},
   "outputs": [],
   "source": []
  },
  {
   "cell_type": "code",
   "execution_count": null,
   "id": "d55f8ee2",
   "metadata": {},
   "outputs": [],
   "source": [
    "a=(\"a\",\"b\",\"c\")\n",
    "print(type(a))"
   ]
  },
  {
   "cell_type": "markdown",
   "id": "b0487fdf",
   "metadata": {},
   "source": [
    "# Data types\n",
    "numerical\n",
    "int\n",
    "float\n",
    "complex"
   ]
  },
  {
   "cell_type": "code",
   "execution_count": 12,
   "id": "1c41b43a",
   "metadata": {},
   "outputs": [
    {
     "name": "stdout",
     "output_type": "stream",
     "text": [
      "<class 'int'>\n",
      "<class 'float'>\n",
      "<class 'complex'>\n",
      "<class 'str'>\n",
      "<class 'bool'>\n"
     ]
    }
   ],
   "source": [
    "a=67\n",
    "b=99.9999\n",
    "c=3.14j\n",
    "d= \"Navratri\"\n",
    "e= True\n",
    "\n",
    "print(type(a))\n",
    "print(type(b))\n",
    "print(type(c))\n",
    "print(type(d))\n",
    "print(type(e))"
   ]
  },
  {
   "cell_type": "code",
   "execution_count": null,
   "id": "e97b1821",
   "metadata": {},
   "outputs": [],
   "source": [
    "#how to take input from user\n",
    "\n",
    "# ask the user to enter the value of x and store it in variable\n",
    "x= int(input(\"Enter the value of x:\"))\n",
    "\n",
    "# ask the user to enter the value of y and store it in variable\n",
    "y= int(input(\"Enter the value of y:\"))\n",
    "\n",
    "#perform any mathematical operation\n",
    "z=x*y\n",
    "\n",
    "#print the answer\n",
    "z"
   ]
  },
  {
   "cell_type": "markdown",
   "id": "28824090",
   "metadata": {},
   "source": [
    "# String"
   ]
  },
  {
   "cell_type": "code",
   "execution_count": null,
   "id": "b12d43d7",
   "metadata": {},
   "outputs": [],
   "source": [
    "str1=\"i like python programming \"\n",
    "str1"
   ]
  },
  {
   "cell_type": "code",
   "execution_count": null,
   "id": "26c15590",
   "metadata": {},
   "outputs": [],
   "source": [
    "str2 =\"number one\"\n",
    "str2"
   ]
  },
  {
   "cell_type": "code",
   "execution_count": null,
   "id": "69deaf8f",
   "metadata": {},
   "outputs": [],
   "source": [
    "str3=str1+str2\n",
    "str3"
   ]
  },
  {
   "cell_type": "markdown",
   "id": "79f91bff",
   "metadata": {},
   "source": [
    "## Indexing"
   ]
  },
  {
   "cell_type": "code",
   "execution_count": null,
   "id": "3f2b7646",
   "metadata": {},
   "outputs": [],
   "source": [
    "name=\"I am Twisha\"\n",
    "print(name)\n",
    "print(len(name))"
   ]
  },
  {
   "cell_type": "code",
   "execution_count": null,
   "id": "791a3d3b",
   "metadata": {},
   "outputs": [],
   "source": [
    "# positive indexing\n",
    "name[0]"
   ]
  },
  {
   "cell_type": "code",
   "execution_count": null,
   "id": "22950725",
   "metadata": {},
   "outputs": [],
   "source": [
    "# nagative indexing\n",
    "name[-1]"
   ]
  },
  {
   "cell_type": "code",
   "execution_count": null,
   "id": "3cc21ac5",
   "metadata": {},
   "outputs": [],
   "source": [
    "a=10\n",
    "type(a)"
   ]
  },
  {
   "cell_type": "code",
   "execution_count": null,
   "id": "681f341a",
   "metadata": {},
   "outputs": [],
   "source": [
    "b=2.5;\n",
    "type(b)"
   ]
  },
  {
   "cell_type": "code",
   "execution_count": null,
   "id": "2055948b",
   "metadata": {},
   "outputs": [],
   "source": [
    "c=True\n",
    "type(c)"
   ]
  },
  {
   "cell_type": "code",
   "execution_count": null,
   "id": "2f4feb27",
   "metadata": {},
   "outputs": [],
   "source": [
    "a=b=c=10\n",
    "print(a)"
   ]
  },
  {
   "cell_type": "code",
   "execution_count": null,
   "id": "38b402d8",
   "metadata": {},
   "outputs": [],
   "source": [
    "print(b)"
   ]
  },
  {
   "cell_type": "code",
   "execution_count": null,
   "id": "7eb3fb74",
   "metadata": {},
   "outputs": [],
   "source": [
    "print(c)"
   ]
  },
  {
   "cell_type": "code",
   "execution_count": null,
   "id": "4ea69dcb",
   "metadata": {},
   "outputs": [],
   "source": [
    "id(a)"
   ]
  },
  {
   "cell_type": "code",
   "execution_count": null,
   "id": "cfd4ba24",
   "metadata": {},
   "outputs": [],
   "source": [
    "id(b)"
   ]
  },
  {
   "cell_type": "code",
   "execution_count": null,
   "id": "f1341234",
   "metadata": {},
   "outputs": [],
   "source": [
    "id(c)"
   ]
  },
  {
   "cell_type": "code",
   "execution_count": null,
   "id": "acc61d51",
   "metadata": {},
   "outputs": [],
   "source": [
    "d=10\n",
    "id(d)"
   ]
  },
  {
   "cell_type": "code",
   "execution_count": null,
   "id": "9ff4ad7c",
   "metadata": {},
   "outputs": [],
   "source": [
    "x=100"
   ]
  },
  {
   "cell_type": "code",
   "execution_count": null,
   "id": "b3b6742c",
   "metadata": {},
   "outputs": [],
   "source": [
    "x=50\n",
    "id(x)"
   ]
  },
  {
   "cell_type": "code",
   "execution_count": null,
   "id": "4be92634",
   "metadata": {},
   "outputs": [],
   "source": [
    "y=50\n",
    "id(50)"
   ]
  },
  {
   "cell_type": "code",
   "execution_count": null,
   "id": "51b6d8e5",
   "metadata": {},
   "outputs": [],
   "source": [
    "a=b=c=10\n",
    "a=20"
   ]
  },
  {
   "cell_type": "code",
   "execution_count": null,
   "id": "e4ef9659",
   "metadata": {},
   "outputs": [],
   "source": [
    "a"
   ]
  },
  {
   "cell_type": "code",
   "execution_count": null,
   "id": "8c9e713c",
   "metadata": {},
   "outputs": [],
   "source": [
    "b"
   ]
  },
  {
   "cell_type": "code",
   "execution_count": null,
   "id": "3901e700",
   "metadata": {},
   "outputs": [],
   "source": [
    "c"
   ]
  },
  {
   "cell_type": "code",
   "execution_count": null,
   "id": "9d326655",
   "metadata": {},
   "outputs": [],
   "source": [
    "a"
   ]
  },
  {
   "cell_type": "code",
   "execution_count": null,
   "id": "bfd374fc",
   "metadata": {},
   "outputs": [],
   "source": [
    "str=\"aaa\"\n",
    "print(str)"
   ]
  },
  {
   "cell_type": "code",
   "execution_count": null,
   "id": "16bb0e5f",
   "metadata": {},
   "outputs": [],
   "source": [
    "str1= \"in\"\n",
    "str2=\"dia\"\n",
    "str=str1+str2\n",
    "str"
   ]
  },
  {
   "cell_type": "code",
   "execution_count": null,
   "id": "fffa8673",
   "metadata": {},
   "outputs": [],
   "source": [
    "type(str)\n"
   ]
  },
  {
   "cell_type": "code",
   "execution_count": null,
   "id": "23ac15d4",
   "metadata": {},
   "outputs": [],
   "source": [
    "str1='Neotech '\n",
    "str2='Institute'\n",
    "\n",
    "str3=str1+str2\n",
    "str3\n"
   ]
  },
  {
   "cell_type": "code",
   "execution_count": null,
   "id": "85cc993a",
   "metadata": {},
   "outputs": [],
   "source": [
    "str3[0]"
   ]
  },
  {
   "cell_type": "code",
   "execution_count": null,
   "id": "9a7aadff",
   "metadata": {},
   "outputs": [],
   "source": [
    "z='My name is Twisha'"
   ]
  },
  {
   "cell_type": "code",
   "execution_count": null,
   "id": "3f7df6bf",
   "metadata": {},
   "outputs": [],
   "source": [
    "z"
   ]
  },
  {
   "cell_type": "code",
   "execution_count": null,
   "id": "5e1c04a9",
   "metadata": {},
   "outputs": [],
   "source": [
    "z[0]"
   ]
  },
  {
   "cell_type": "code",
   "execution_count": null,
   "id": "048cb56e",
   "metadata": {},
   "outputs": [],
   "source": [
    "z[-1]"
   ]
  },
  {
   "cell_type": "code",
   "execution_count": null,
   "id": "66336a3b",
   "metadata": {},
   "outputs": [],
   "source": [
    "z[-2]"
   ]
  },
  {
   "cell_type": "code",
   "execution_count": null,
   "id": "24924093",
   "metadata": {},
   "outputs": [],
   "source": [
    "z[0:1]"
   ]
  },
  {
   "cell_type": "code",
   "execution_count": null,
   "id": "f7c333b3",
   "metadata": {},
   "outputs": [],
   "source": [
    "z[0:2]"
   ]
  },
  {
   "cell_type": "code",
   "execution_count": null,
   "id": "9fc01960",
   "metadata": {},
   "outputs": [],
   "source": [
    "z[0:6]"
   ]
  },
  {
   "cell_type": "code",
   "execution_count": null,
   "id": "c40811a9",
   "metadata": {},
   "outputs": [],
   "source": [
    "z[0:7]"
   ]
  },
  {
   "cell_type": "code",
   "execution_count": null,
   "id": "be554518",
   "metadata": {},
   "outputs": [],
   "source": [
    "z[7:15]"
   ]
  },
  {
   "cell_type": "code",
   "execution_count": null,
   "id": "a9c51ac5",
   "metadata": {},
   "outputs": [],
   "source": [
    "z[10:16]"
   ]
  },
  {
   "cell_type": "code",
   "execution_count": null,
   "id": "323597ab",
   "metadata": {},
   "outputs": [],
   "source": [
    "z[11:17]"
   ]
  },
  {
   "cell_type": "code",
   "execution_count": null,
   "id": "5078e196",
   "metadata": {},
   "outputs": [],
   "source": [
    "z[11:]\n"
   ]
  },
  {
   "cell_type": "code",
   "execution_count": null,
   "id": "1374a5bb",
   "metadata": {},
   "outputs": [],
   "source": [
    "z[:11]"
   ]
  },
  {
   "cell_type": "code",
   "execution_count": null,
   "id": "5c068519",
   "metadata": {},
   "outputs": [],
   "source": [
    "z[-1:-3]"
   ]
  },
  {
   "cell_type": "code",
   "execution_count": null,
   "id": "510bbf15",
   "metadata": {},
   "outputs": [],
   "source": [
    "str=\"my\"\n",
    "str"
   ]
  },
  {
   "cell_type": "code",
   "execution_count": null,
   "id": "6eb20d22",
   "metadata": {},
   "outputs": [],
   "source": [
    "str[0]"
   ]
  },
  {
   "cell_type": "code",
   "execution_count": null,
   "id": "ba9976ed",
   "metadata": {},
   "outputs": [],
   "source": [
    "str[-1]"
   ]
  },
  {
   "cell_type": "code",
   "execution_count": null,
   "id": "d58be955",
   "metadata": {},
   "outputs": [],
   "source": [
    "str[-1:-3]\n"
   ]
  },
  {
   "cell_type": "code",
   "execution_count": null,
   "id": "9294b331",
   "metadata": {},
   "outputs": [],
   "source": [
    "str[-3:-1]"
   ]
  },
  {
   "cell_type": "code",
   "execution_count": null,
   "id": "31d7f153",
   "metadata": {},
   "outputs": [],
   "source": [
    "str3[-3:-1]"
   ]
  },
  {
   "cell_type": "code",
   "execution_count": null,
   "id": "638ba45a",
   "metadata": {},
   "outputs": [],
   "source": [
    "str3"
   ]
  },
  {
   "cell_type": "code",
   "execution_count": null,
   "id": "1e89ef66",
   "metadata": {},
   "outputs": [],
   "source": [
    "#string formating\n",
    "string1=\"{1} {0} {2}\".format('Python','Programing','language')\n",
    "print(\"print string in positional order\")\n",
    "print(string1)\n"
   ]
  },
  {
   "cell_type": "code",
   "execution_count": null,
   "id": "742c9971",
   "metadata": {},
   "outputs": [],
   "source": [
    "string1=\"{1} {0} {2}\".format('Python','Programing','language')\n",
    "print(string1)\n"
   ]
  },
  {
   "cell_type": "code",
   "execution_count": null,
   "id": "594dc0ad",
   "metadata": {},
   "outputs": [],
   "source": [
    "#list type\n",
    "a=['a',1,2.5]\n",
    "a\n"
   ]
  },
  {
   "cell_type": "code",
   "execution_count": null,
   "id": "a252f6a3",
   "metadata": {},
   "outputs": [],
   "source": [
    "type(a)"
   ]
  },
  {
   "cell_type": "code",
   "execution_count": null,
   "id": "0c11cb5b",
   "metadata": {},
   "outputs": [],
   "source": [
    "my_list=[1,2,3,4,5]"
   ]
  },
  {
   "cell_type": "code",
   "execution_count": null,
   "id": "6d14d79f",
   "metadata": {},
   "outputs": [],
   "source": [
    "my_list"
   ]
  },
  {
   "cell_type": "code",
   "execution_count": null,
   "id": "c632ef00",
   "metadata": {},
   "outputs": [],
   "source": [
    "type(my_list)"
   ]
  },
  {
   "cell_type": "code",
   "execution_count": null,
   "id": "102d2bef",
   "metadata": {},
   "outputs": [],
   "source": [
    "type(my_list[0])"
   ]
  },
  {
   "cell_type": "code",
   "execution_count": null,
   "id": "7ac7620f",
   "metadata": {},
   "outputs": [],
   "source": [
    "type(a[1])"
   ]
  },
  {
   "cell_type": "code",
   "execution_count": null,
   "id": "e03cbdf1",
   "metadata": {},
   "outputs": [],
   "source": [
    "type(a[2])"
   ]
  },
  {
   "cell_type": "code",
   "execution_count": null,
   "id": "1a614a98",
   "metadata": {},
   "outputs": [],
   "source": [
    "type(a[0])"
   ]
  },
  {
   "cell_type": "code",
   "execution_count": null,
   "id": "4bcf796f",
   "metadata": {},
   "outputs": [],
   "source": [
    "x=['hi',1,2,3,4,5]"
   ]
  },
  {
   "cell_type": "code",
   "execution_count": null,
   "id": "720d55d0",
   "metadata": {},
   "outputs": [],
   "source": [
    "x"
   ]
  },
  {
   "cell_type": "code",
   "execution_count": null,
   "id": "98e87957",
   "metadata": {},
   "outputs": [],
   "source": [
    "x[0]=\"hello\""
   ]
  },
  {
   "cell_type": "code",
   "execution_count": null,
   "id": "ba1ab981",
   "metadata": {},
   "outputs": [],
   "source": []
  },
  {
   "cell_type": "code",
   "execution_count": null,
   "id": "21d5dde9",
   "metadata": {},
   "outputs": [],
   "source": [
    "x=input(\"Enter the value\")\n",
    "y=input(\"Enter the value\")\n",
    "x1=int(x)\n",
    "y1=int(y)\n",
    "a=x1+y1\n",
    "a"
   ]
  },
  {
   "cell_type": "code",
   "execution_count": null,
   "id": "f1795fee",
   "metadata": {},
   "outputs": [],
   "source": [
    "a=(1,2,3,4,5)\n",
    "b=(6,7,8,10)\n",
    "type(a)"
   ]
  },
  {
   "cell_type": "code",
   "execution_count": null,
   "id": "b92fca23",
   "metadata": {},
   "outputs": [],
   "source": [
    "a+b"
   ]
  },
  {
   "cell_type": "code",
   "execution_count": null,
   "id": "20b127ee",
   "metadata": {},
   "outputs": [],
   "source": [
    "a*2"
   ]
  },
  {
   "cell_type": "markdown",
   "id": "994cba25",
   "metadata": {},
   "source": [
    "## Dictionary"
   ]
  },
  {
   "cell_type": "code",
   "execution_count": 15,
   "id": "8fe5a36a",
   "metadata": {},
   "outputs": [],
   "source": [
    "emp={}"
   ]
  },
  {
   "cell_type": "code",
   "execution_count": 16,
   "id": "608c98fe",
   "metadata": {},
   "outputs": [
    {
     "data": {
      "text/plain": [
       "dict"
      ]
     },
     "execution_count": 16,
     "metadata": {},
     "output_type": "execute_result"
    }
   ],
   "source": [
    "type(emp)"
   ]
  },
  {
   "cell_type": "code",
   "execution_count": 17,
   "id": "482b54fd",
   "metadata": {},
   "outputs": [],
   "source": [
    "emp['name']=\"twisha\"\n",
    "emp[\"age\"]=20\n",
    "emp[\"gender\"]=\"female\""
   ]
  },
  {
   "cell_type": "code",
   "execution_count": 18,
   "id": "d893ba27",
   "metadata": {},
   "outputs": [
    {
     "data": {
      "text/plain": [
       "{'name': 'twisha', 'age': 20, 'gender': 'female'}"
      ]
     },
     "execution_count": 18,
     "metadata": {},
     "output_type": "execute_result"
    }
   ],
   "source": [
    "emp"
   ]
  },
  {
   "cell_type": "code",
   "execution_count": 19,
   "id": "c5a907aa",
   "metadata": {},
   "outputs": [
    {
     "data": {
      "text/plain": [
       "'twisha'"
      ]
     },
     "execution_count": 19,
     "metadata": {},
     "output_type": "execute_result"
    }
   ],
   "source": [
    "emp['name']"
   ]
  },
  {
   "cell_type": "code",
   "execution_count": 20,
   "id": "6cb59836",
   "metadata": {},
   "outputs": [
    {
     "data": {
      "text/plain": [
       "20"
      ]
     },
     "execution_count": 20,
     "metadata": {},
     "output_type": "execute_result"
    }
   ],
   "source": [
    "emp['age']"
   ]
  },
  {
   "cell_type": "code",
   "execution_count": 21,
   "id": "b969f3bb",
   "metadata": {},
   "outputs": [
    {
     "data": {
      "text/plain": [
       "dict_keys(['name', 'age', 'gender'])"
      ]
     },
     "execution_count": 21,
     "metadata": {},
     "output_type": "execute_result"
    }
   ],
   "source": [
    "emp.keys()"
   ]
  },
  {
   "cell_type": "markdown",
   "id": "7cc73107",
   "metadata": {},
   "source": [
    "count=0\n",
    "while (count<3):\n",
    "    count=count+1\n",
    "    print(\"hello greek\")"
   ]
  },
  {
   "cell_type": "code",
   "execution_count": null,
   "id": "0a7f41f2",
   "metadata": {},
   "outputs": [],
   "source": [
    "emp.values()"
   ]
  },
  {
   "cell_type": "markdown",
   "id": "1bd1e337",
   "metadata": {},
   "source": [
    "# Python loops"
   ]
  },
  {
   "cell_type": "markdown",
   "id": "ba6e954b",
   "metadata": {},
   "source": [
    "### While loop"
   ]
  },
  {
   "cell_type": "code",
   "execution_count": null,
   "id": "11c22122",
   "metadata": {},
   "outputs": [],
   "source": [
    "count=0\n",
    "while(count<9):\n",
    "    print(\"the cout is:\",count)\n",
    "    count=count+1\n",
    "print(\"Good bye\")"
   ]
  },
  {
   "cell_type": "code",
   "execution_count": null,
   "id": "4880d63e",
   "metadata": {},
   "outputs": [],
   "source": [
    "count=0\n",
    "while count<5:\n",
    "    print(count,\"is less than 5\")\n",
    "    count=count+1\n",
    "else:\n",
    "    print(count,\"is eual to 5\")"
   ]
  },
  {
   "cell_type": "markdown",
   "id": "01b1b4c7",
   "metadata": {},
   "source": [
    "### For loop"
   ]
  },
  {
   "cell_type": "code",
   "execution_count": null,
   "id": "8884cffd",
   "metadata": {},
   "outputs": [],
   "source": [
    "for letter in 'python':   # frist example\n",
    "    print('current leter :' ,letter)\n",
    "fruit=['banana', 'apple', 'mango']\n",
    "for fruit in fruit:    #second example\n",
    "    print('current fruit :',fruit)\n",
    "print(\"good bye\")"
   ]
  },
  {
   "cell_type": "code",
   "execution_count": null,
   "id": "2992b65d",
   "metadata": {},
   "outputs": [],
   "source": [
    "for letter in 'python':   # frist example\n",
    "    print('current leter :' ,letter)\n",
    "fruit=['banana', 'apple', 'mango']\n",
    "for fruit in fruit:    #second example\n",
    "    print('current fruit :',fruit)\n",
    "for i in range(10):\n",
    "    print(i)\n",
    "print(\"good bye\")"
   ]
  },
  {
   "cell_type": "code",
   "execution_count": 1,
   "id": "162fbc64",
   "metadata": {},
   "outputs": [
    {
     "name": "stdout",
     "output_type": "stream",
     "text": [
      "10 equal 2 = 5\n",
      "11 is a prime number\n",
      "12 equal 2 = 6\n",
      "13 is a prime number\n",
      "14 equal 2 = 7\n",
      "15 equal 3 = 5\n",
      "16 equal 2 = 8\n",
      "17 is a prime number\n",
      "18 equal 2 = 9\n",
      "19 is a prime number\n"
     ]
    }
   ],
   "source": [
    "for num in range (10,20):     #to iterate between 10 to 20\n",
    "    for i in range(2,num):    #to iterate on the factors of the number\n",
    "        if num%i == 0:        #to determine the first fector\n",
    "            j=num/i           #ti calculate the second factor   \n",
    "            print('%d equal %d = %d' % (num,i,j))\n",
    "            break        #to move the next nymber,the#first for\n",
    "    else:            #else part of the loop\n",
    "        print(num, 'is a prime number')\n",
    "     \n",
    " \n",
    "    \n",
    "        "
   ]
  },
  {
   "cell_type": "code",
   "execution_count": null,
   "id": "fb5ce1dd",
   "metadata": {},
   "outputs": [],
   "source": [
    "from math import pi\n",
    "pi"
   ]
  },
  {
   "cell_type": "markdown",
   "id": "2af77359",
   "metadata": {},
   "source": [
    "## Area of circle"
   ]
  },
  {
   "cell_type": "code",
   "execution_count": null,
   "id": "a6951b21",
   "metadata": {},
   "outputs": [],
   "source": [
    "r=4\n",
    "pi*r*r"
   ]
  },
  {
   "cell_type": "markdown",
   "id": "192c7e63",
   "metadata": {},
   "source": [
    "## Conditional statement"
   ]
  },
  {
   "cell_type": "code",
   "execution_count": null,
   "id": "47952360",
   "metadata": {},
   "outputs": [],
   "source": [
    "#if statement\n",
    "\n",
    "num=5\n",
    "if num>0:\n",
    "    print(num, 'is positive number')\n",
    "else:\n",
    "    print(num, 'is Negative number')"
   ]
  },
  {
   "cell_type": "markdown",
   "id": "bc4ccc48",
   "metadata": {},
   "source": [
    "# Calculator"
   ]
  },
  {
   "cell_type": "code",
   "execution_count": 1,
   "id": "2cf2293c",
   "metadata": {},
   "outputs": [
    {
     "name": "stdout",
     "output_type": "stream",
     "text": [
      "select operation\n",
      "1.Addition\n",
      "2.subtraction\n",
      "3.multiply\n",
      "4. divide\n",
      "enter choice (1/2/3/4):1\n",
      "enter the first number 34\n",
      "enter the second number 56\n",
      "34 + 56 = 90\n"
     ]
    }
   ],
   "source": [
    "#create function for each operation\n",
    "\n",
    "#this function add two number\n",
    "\n",
    "def add(x,y):\n",
    "    return x+y\n",
    "\n",
    "#this function subtraction two number\n",
    "\n",
    "def subtract(x,y):\n",
    "    return x-y\n",
    "\n",
    "#this function multiply two number\n",
    "\n",
    "def multiply(x,y):\n",
    "    return x*y\n",
    "\n",
    "#this function divide two number\n",
    "\n",
    "def  divide(x,y):\n",
    "    return x/y\n",
    "\n",
    "print(\"select operation\")\n",
    "print(\"1.Addition\")\n",
    "print(\"2.subtraction\")\n",
    "print(\"3.multiply\")\n",
    "print(\"4. divide\")\n",
    "\n",
    "choice = input(\"enter choice (1/2/3/4):\")\n",
    "\n",
    "num1 =int(input(\"enter the first number \"))\n",
    "num2 =int(input(\"enter the second number \"))\n",
    "\n",
    "if choice == '1':\n",
    "    print(num1,'+',num2,'=', add(num1,num2))\n",
    "elif choice == '2':\n",
    "     print(num1,'+',num2, '=',subtract(num1,num2))\n",
    "elif choice == '3':\n",
    "    print(num1,'+',num2,'=', multiply(num1,num2))\n",
    "elif choice == '4':\n",
    "     print(num1,'+',num2, '=',divide(num1,num2))\n",
    "else:\n",
    "    print(\"invalid input\")\n",
    "    \n",
    "    \n",
    "\n"
   ]
  },
  {
   "cell_type": "code",
   "execution_count": null,
   "id": "b40aa545",
   "metadata": {},
   "outputs": [],
   "source": []
  }
 ],
 "metadata": {
  "kernelspec": {
   "display_name": "Python 3 (ipykernel)",
   "language": "python",
   "name": "python3"
  },
  "language_info": {
   "codemirror_mode": {
    "name": "ipython",
    "version": 3
   },
   "file_extension": ".py",
   "mimetype": "text/x-python",
   "name": "python",
   "nbconvert_exporter": "python",
   "pygments_lexer": "ipython3",
   "version": "3.9.12"
  }
 },
 "nbformat": 4,
 "nbformat_minor": 5
}
