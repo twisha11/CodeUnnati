{
 "cells": [
  {
   "cell_type": "markdown",
   "id": "e30d96de",
   "metadata": {},
   "source": [
    "# NumPy"
   ]
  },
  {
   "cell_type": "code",
   "execution_count": 1,
   "id": "4c4e56f6",
   "metadata": {},
   "outputs": [
    {
     "name": "stdout",
     "output_type": "stream",
     "text": [
      "Requirement already satisfied: numpy in c:\\users\\sap\\anaconda3\\lib\\site-packages (1.21.5)Note: you may need to restart the kernel to use updated packages.\n",
      "\n"
     ]
    }
   ],
   "source": [
    "pip install numpy"
   ]
  },
  {
   "cell_type": "code",
   "execution_count": 3,
   "id": "7d3d8e4a",
   "metadata": {},
   "outputs": [
    {
     "name": "stdout",
     "output_type": "stream",
     "text": [
      "Package                       Version\n",
      "----------------------------- --------------------\n",
      "aiohttp                       3.8.1\n",
      "aiosignal                     1.2.0\n",
      "alabaster                     0.7.12\n",
      "anaconda-client               1.9.0\n",
      "anaconda-navigator            2.1.4\n",
      "anaconda-project              0.10.2\n",
      "anyio                         3.5.0\n",
      "appdirs                       1.4.4\n",
      "argon2-cffi                   21.3.0\n",
      "argon2-cffi-bindings          21.2.0\n",
      "arrow                         1.2.2\n",
      "astroid                       2.6.6\n",
      "astropy                       5.0.4\n",
      "asttokens                     2.0.5\n",
      "async-timeout                 4.0.1\n",
      "atomicwrites                  1.4.0\n",
      "attrs                         21.4.0\n",
      "Automat                       20.2.0\n",
      "autopep8                      1.6.0\n",
      "Babel                         2.9.1\n",
      "backcall                      0.2.0\n",
      "backports.functools-lru-cache 1.6.4\n",
      "backports.tempfile            1.0\n",
      "backports.weakref             1.0.post1\n",
      "bcrypt                        3.2.0\n",
      "beautifulsoup4                4.11.1\n",
      "binaryornot                   0.4.4\n",
      "bitarray                      2.4.1\n",
      "bkcharts                      0.2\n",
      "black                         19.10b0\n",
      "bleach                        4.1.0\n",
      "bokeh                         2.4.2\n",
      "boto3                         1.21.32\n",
      "botocore                      1.24.32\n",
      "Bottleneck                    1.3.4\n",
      "brotlipy                      0.7.0\n",
      "cachetools                    4.2.2\n",
      "certifi                       2021.10.8\n",
      "cffi                          1.15.0\n",
      "chardet                       4.0.0\n",
      "charset-normalizer            2.0.4\n",
      "click                         8.0.4\n",
      "cloudpickle                   2.0.0\n",
      "clyent                        1.2.2\n",
      "colorama                      0.4.4\n",
      "colorcet                      2.0.6\n",
      "comtypes                      1.1.10\n",
      "conda                         4.12.0\n",
      "conda-build                   3.21.8\n",
      "conda-content-trust           0+unknown\n",
      "conda-pack                    0.6.0\n",
      "conda-package-handling        1.8.1\n",
      "conda-repo-cli                1.0.4\n",
      "conda-token                   0.3.0\n",
      "conda-verify                  3.4.2\n",
      "constantly                    15.1.0\n",
      "cookiecutter                  1.7.3\n",
      "cryptography                  3.4.8\n",
      "cssselect                     1.1.0\n",
      "cycler                        0.11.0\n",
      "Cython                        0.29.28\n",
      "cytoolz                       0.11.0\n",
      "daal4py                       2021.5.0\n",
      "dask                          2022.2.1\n",
      "datashader                    0.13.0\n",
      "datashape                     0.5.4\n",
      "debugpy                       1.5.1\n",
      "decorator                     5.1.1\n",
      "defusedxml                    0.7.1\n",
      "diff-match-patch              20200713\n",
      "distributed                   2022.2.1\n",
      "docutils                      0.17.1\n",
      "entrypoints                   0.4\n",
      "et-xmlfile                    1.1.0\n",
      "executing                     0.8.3\n",
      "fastjsonschema                2.15.1\n",
      "filelock                      3.6.0\n",
      "flake8                        3.9.2\n",
      "Flask                         1.1.2\n",
      "fonttools                     4.25.0\n",
      "frozenlist                    1.2.0\n",
      "fsspec                        2022.2.0\n",
      "future                        0.18.2\n",
      "gensim                        4.1.2\n",
      "glob2                         0.7\n",
      "google-api-core               1.25.1\n",
      "google-auth                   1.33.0\n",
      "google-cloud-core             1.7.1\n",
      "google-cloud-storage          1.31.0\n",
      "google-crc32c                 1.1.2\n",
      "google-resumable-media        1.3.1\n",
      "googleapis-common-protos      1.53.0\n",
      "greenlet                      1.1.1\n",
      "grpcio                        1.42.0\n",
      "h5py                          3.6.0\n",
      "HeapDict                      1.0.1\n",
      "holoviews                     1.14.8\n",
      "hvplot                        0.7.3\n",
      "hyperlink                     21.0.0\n",
      "idna                          3.3\n",
      "imagecodecs                   2021.8.26\n",
      "imageio                       2.9.0\n",
      "imagesize                     1.3.0\n",
      "importlib-metadata            4.11.3\n",
      "incremental                   21.3.0\n",
      "inflection                    0.5.1\n",
      "iniconfig                     1.1.1\n",
      "intake                        0.6.5\n",
      "intervaltree                  3.1.0\n",
      "ipykernel                     6.9.1\n",
      "ipython                       8.2.0\n",
      "ipython-genutils              0.2.0\n",
      "ipywidgets                    7.6.5\n",
      "isort                         5.9.3\n",
      "itemadapter                   0.3.0\n",
      "itemloaders                   1.0.4\n",
      "itsdangerous                  2.0.1\n",
      "jdcal                         1.4.1\n",
      "jedi                          0.18.1\n",
      "Jinja2                        2.11.3\n",
      "jinja2-time                   0.2.0\n",
      "jmespath                      0.10.0\n",
      "joblib                        1.1.0\n",
      "json5                         0.9.6\n",
      "jsonschema                    4.4.0\n",
      "jupyter                       1.0.0\n",
      "jupyter-client                6.1.12\n",
      "jupyter-console               6.4.0\n",
      "jupyter-core                  4.9.2\n",
      "jupyter-server                1.13.5\n",
      "jupyterlab                    3.3.2\n",
      "jupyterlab-pygments           0.1.2\n",
      "jupyterlab-server             2.10.3\n",
      "jupyterlab-widgets            1.0.0\n",
      "keyring                       23.4.0\n",
      "kiwisolver                    1.3.2\n",
      "lazy-object-proxy             1.6.0\n",
      "libarchive-c                  2.9\n",
      "llvmlite                      0.38.0\n",
      "locket                        0.2.1\n",
      "lxml                          4.8.0\n",
      "Markdown                      3.3.4\n",
      "MarkupSafe                    2.0.1\n",
      "matplotlib                    3.5.1\n",
      "matplotlib-inline             0.1.2\n",
      "mccabe                        0.6.1\n",
      "menuinst                      1.4.18\n",
      "mistune                       0.8.4\n",
      "mkl-fft                       1.3.1\n",
      "mkl-random                    1.2.2\n",
      "mkl-service                   2.4.0\n",
      "mock                          4.0.3\n",
      "mpmath                        1.2.1\n",
      "msgpack                       1.0.2\n",
      "multidict                     5.1.0\n",
      "multipledispatch              0.6.0\n",
      "munkres                       1.1.4\n",
      "mypy-extensions               0.4.3\n",
      "navigator-updater             0.2.1\n",
      "nbclassic                     0.3.5\n",
      "nbclient                      0.5.13\n",
      "nbconvert                     6.4.4\n",
      "nbformat                      5.3.0\n",
      "nest-asyncio                  1.5.5\n",
      "networkx                      2.7.1\n",
      "nltk                          3.7\n",
      "nose                          1.3.7\n",
      "notebook                      6.4.8\n",
      "numba                         0.55.1\n",
      "numexpr                       2.8.1\n",
      "numpy                         1.21.5\n",
      "numpydoc                      1.2\n",
      "olefile                       0.46\n",
      "openpyxl                      3.0.9\n",
      "packaging                     21.3\n",
      "pandas                        1.4.2\n",
      "pandocfilters                 1.5.0\n",
      "panel                         0.13.0\n",
      "param                         1.12.0\n",
      "paramiko                      2.8.1\n",
      "parsel                        1.6.0\n",
      "parso                         0.8.3\n",
      "partd                         1.2.0\n",
      "pathspec                      0.7.0\n",
      "patsy                         0.5.2\n",
      "pep8                          1.7.1\n",
      "pexpect                       4.8.0\n",
      "pickleshare                   0.7.5\n",
      "Pillow                        9.0.1\n",
      "pip                           21.2.4\n",
      "pkginfo                       1.8.2\n",
      "plotly                        5.6.0\n",
      "pluggy                        1.0.0\n",
      "poyo                          0.5.0\n",
      "prometheus-client             0.13.1\n",
      "prompt-toolkit                3.0.20\n",
      "Protego                       0.1.16\n",
      "protobuf                      3.19.1\n",
      "psutil                        5.8.0\n",
      "ptyprocess                    0.7.0\n",
      "pure-eval                     0.2.2\n",
      "py                            1.11.0\n",
      "pyasn1                        0.4.8\n",
      "pyasn1-modules                0.2.8\n",
      "pycodestyle                   2.7.0\n",
      "pycosat                       0.6.3\n",
      "pycparser                     2.21\n",
      "pyct                          0.4.6\n",
      "pycurl                        7.44.1\n",
      "PyDispatcher                  2.0.5\n",
      "pydocstyle                    6.1.1\n",
      "pyerfa                        2.0.0\n",
      "pyflakes                      2.3.1\n",
      "Pygments                      2.11.2\n",
      "PyHamcrest                    2.0.2\n",
      "PyJWT                         2.1.0\n",
      "pylint                        2.9.6\n",
      "pyls-spyder                   0.4.0\n",
      "PyNaCl                        1.4.0\n",
      "pyodbc                        4.0.32\n",
      "pyOpenSSL                     21.0.0\n",
      "pyparsing                     3.0.4\n",
      "pyreadline                    2.1\n",
      "pyrsistent                    0.18.0\n",
      "PySocks                       1.7.1\n",
      "pytest                        7.1.1\n",
      "python-dateutil               2.8.2\n",
      "python-lsp-black              1.0.0\n",
      "python-lsp-jsonrpc            1.0.0\n",
      "python-lsp-server             1.2.4\n",
      "python-slugify                5.0.2\n",
      "python-snappy                 0.6.0\n",
      "pytz                          2021.3\n",
      "pyviz-comms                   2.0.2\n",
      "PyWavelets                    1.3.0\n",
      "pywin32                       302\n",
      "pywin32-ctypes                0.2.0\n",
      "pywinpty                      2.0.2\n",
      "PyYAML                        6.0\n",
      "pyzmq                         22.3.0\n",
      "QDarkStyle                    3.0.2\n",
      "qstylizer                     0.1.10\n",
      "QtAwesome                     1.0.3\n",
      "qtconsole                     5.3.0\n",
      "QtPy                          2.0.1\n",
      "queuelib                      1.5.0\n",
      "regex                         2022.3.15\n",
      "requests                      2.27.1\n",
      "requests-file                 1.5.1\n",
      "rope                          0.22.0\n",
      "rsa                           4.7.2\n",
      "Rtree                         0.9.7\n",
      "ruamel-yaml-conda             0.15.100\n",
      "s3transfer                    0.5.0\n",
      "scikit-image                  0.19.2\n",
      "scikit-learn                  1.0.2\n",
      "scikit-learn-intelex          2021.20220215.102710\n",
      "scipy                         1.7.3\n",
      "Scrapy                        2.6.1\n",
      "seaborn                       0.11.2\n",
      "Send2Trash                    1.8.0\n",
      "service-identity              18.1.0\n",
      "setuptools                    61.2.0\n",
      "sip                           4.19.13\n",
      "six                           1.16.0\n",
      "smart-open                    5.1.0\n",
      "sniffio                       1.2.0\n",
      "snowballstemmer               2.2.0\n",
      "sortedcollections             2.1.0\n",
      "sortedcontainers              2.4.0\n",
      "soupsieve                     2.3.1\n",
      "Sphinx                        4.4.0\n",
      "sphinxcontrib-applehelp       1.0.2\n",
      "sphinxcontrib-devhelp         1.0.2\n",
      "sphinxcontrib-htmlhelp        2.0.0\n",
      "sphinxcontrib-jsmath          1.0.1\n",
      "sphinxcontrib-qthelp          1.0.3\n",
      "sphinxcontrib-serializinghtml 1.1.5\n",
      "spyder                        5.1.5\n",
      "spyder-kernels                2.1.3\n",
      "SQLAlchemy                    1.4.32\n",
      "stack-data                    0.2.0\n",
      "statsmodels                   0.13.2\n",
      "sympy                         1.10.1\n",
      "tables                        3.6.1\n",
      "tabulate                      0.8.9\n",
      "TBB                           0.2\n",
      "tblib                         1.7.0\n",
      "tenacity                      8.0.1\n",
      "terminado                     0.13.1\n",
      "testpath                      0.5.0\n",
      "text-unidecode                1.3\n",
      "textdistance                  4.2.1\n",
      "threadpoolctl                 2.2.0\n",
      "three-merge                   0.1.1\n",
      "tifffile                      2021.7.2\n",
      "tinycss                       0.4\n",
      "tldextract                    3.2.0\n",
      "toml                          0.10.2\n",
      "tomli                         1.2.2\n",
      "toolz                         0.11.2\n",
      "tornado                       6.1\n",
      "tqdm                          4.64.0\n",
      "traitlets                     5.1.1\n",
      "Twisted                       22.2.0\n",
      "twisted-iocpsupport           1.0.2\n",
      "typed-ast                     1.4.3\n",
      "typing_extensions             4.1.1\n",
      "ujson                         5.1.0\n",
      "Unidecode                     1.2.0\n",
      "urllib3                       1.26.9\n",
      "w3lib                         1.21.0\n",
      "watchdog                      2.1.6\n",
      "wcwidth                       0.2.5\n",
      "webencodings                  0.5.1\n",
      "websocket-client              0.58.0\n",
      "Werkzeug                      2.0.3\n",
      "wheel                         0.37.1\n",
      "widgetsnbextension            3.5.2\n",
      "win-inet-pton                 1.1.0\n",
      "win-unicode-console           0.5\n",
      "wincertstore                  0.2\n",
      "wrapt                         1.12.1\n",
      "xarray                        0.20.1\n",
      "xlrd                          2.0.1\n",
      "XlsxWriter                    3.0.3\n",
      "xlwings                       0.24.9\n",
      "yapf                          0.31.0\n",
      "yarl                          1.6.3\n",
      "zict                          2.0.0\n",
      "zipp                          3.7.0\n",
      "zope.interface                5.4.0\n",
      "Note: you may need to restart the kernel to use updated packages.\n"
     ]
    }
   ],
   "source": [
    "pip list"
   ]
  },
  {
   "cell_type": "code",
   "execution_count": 1,
   "id": "9da2f22a",
   "metadata": {},
   "outputs": [
    {
     "name": "stdout",
     "output_type": "stream",
     "text": [
      "Collecting package metadata (current_repodata.json): ...working... done\n",
      "Solving environment: ...working... done\n",
      "\n",
      "## Package Plan ##\n",
      "\n",
      "  environment location: C:\\Users\\Sap\\anaconda3\n",
      "\n",
      "  added / updated specs:\n",
      "    - numpy\n",
      "\n",
      "\n",
      "The following packages will be downloaded:\n",
      "\n",
      "    package                    |            build\n",
      "    ---------------------------|-----------------\n",
      "    conda-4.14.0               |   py39haa95532_0         937 KB\n",
      "    ------------------------------------------------------------\n",
      "                                           Total:         937 KB\n",
      "\n",
      "The following packages will be UPDATED:\n",
      "\n",
      "  conda                               4.12.0-py39haa95532_0 --> 4.14.0-py39haa95532_0\n",
      "\n",
      "\n",
      "\n",
      "Downloading and Extracting Packages\n",
      "\n",
      "conda-4.14.0         | 937 KB    |            |   0% \n",
      "conda-4.14.0         | 937 KB    | 1          |   2% \n",
      "conda-4.14.0         | 937 KB    | #          |  10% \n",
      "conda-4.14.0         | 937 KB    | ##3        |  24% \n",
      "conda-4.14.0         | 937 KB    | ###5       |  36% \n",
      "conda-4.14.0         | 937 KB    | ######6    |  67% \n",
      "conda-4.14.0         | 937 KB    | ########## | 100% \n",
      "conda-4.14.0         | 937 KB    | ########## | 100% \n",
      "Preparing transaction: ...working... done\n",
      "Verifying transaction: ...working... done\n",
      "Executing transaction: ...working... done\n",
      "\n",
      "Note: you may need to restart the kernel to use updated packages.\n"
     ]
    }
   ],
   "source": [
    "conda install numpy"
   ]
  },
  {
   "cell_type": "markdown",
   "id": "5a189924",
   "metadata": {},
   "source": [
    "#### Import and declare library"
   ]
  },
  {
   "cell_type": "code",
   "execution_count": 14,
   "id": "62f63625",
   "metadata": {},
   "outputs": [],
   "source": [
    "import numpy as np\n"
   ]
  },
  {
   "cell_type": "markdown",
   "id": "a437199d",
   "metadata": {},
   "source": [
    "##### version of Library "
   ]
  },
  {
   "cell_type": "code",
   "execution_count": 20,
   "id": "bce6830f",
   "metadata": {},
   "outputs": [
    {
     "name": "stdout",
     "output_type": "stream",
     "text": [
      "1.21.5\n"
     ]
    }
   ],
   "source": [
    "print(np.__version__)"
   ]
  },
  {
   "cell_type": "markdown",
   "id": "685fd61c",
   "metadata": {},
   "source": [
    "####  Array"
   ]
  },
  {
   "cell_type": "code",
   "execution_count": 21,
   "id": "928cf8f2",
   "metadata": {},
   "outputs": [
    {
     "data": {
      "text/plain": [
       "array([ 1,  2,  3,  4,  5,  6,  7,  8,  9, 10])"
      ]
     },
     "execution_count": 21,
     "metadata": {},
     "output_type": "execute_result"
    }
   ],
   "source": [
    "# single Array\n",
    "arr=np.array([1,2,3,4,5,6,7,8,9,10])\n",
    "arr"
   ]
  },
  {
   "cell_type": "code",
   "execution_count": 36,
   "id": "ab24ec93",
   "metadata": {},
   "outputs": [
    {
     "data": {
      "text/plain": [
       "array([[1, 2, 3, 4],\n",
       "       [5, 6, 7, 8]])"
      ]
     },
     "execution_count": 36,
     "metadata": {},
     "output_type": "execute_result"
    }
   ],
   "source": [
    "# 2-D Array\n",
    "arr=np.array([[1,2,3,4],[5,6,7,8]])\n",
    "arr\n"
   ]
  },
  {
   "cell_type": "code",
   "execution_count": 37,
   "id": "fbc2eca2",
   "metadata": {},
   "outputs": [
    {
     "name": "stdout",
     "output_type": "stream",
     "text": [
      "2\n"
     ]
    }
   ],
   "source": [
    "# type of Array\n",
    "print(arr.ndim)"
   ]
  },
  {
   "cell_type": "code",
   "execution_count": 38,
   "id": "328c45c3",
   "metadata": {},
   "outputs": [
    {
     "name": "stdout",
     "output_type": "stream",
     "text": [
      "(2, 4)\n"
     ]
    }
   ],
   "source": [
    "# row and colom of array\n",
    "print(arr.shape)"
   ]
  },
  {
   "cell_type": "code",
   "execution_count": 39,
   "id": "1b0dd51a",
   "metadata": {},
   "outputs": [
    {
     "name": "stdout",
     "output_type": "stream",
     "text": [
      "<class 'numpy.ndarray'>\n"
     ]
    }
   ],
   "source": [
    "print(type(arr))"
   ]
  },
  {
   "cell_type": "code",
   "execution_count": 40,
   "id": "fb6fd4c1",
   "metadata": {},
   "outputs": [
    {
     "name": "stdout",
     "output_type": "stream",
     "text": [
      "<memory at 0x0000024D2DA99380>\n"
     ]
    }
   ],
   "source": [
    "# memory location of array\n",
    "print(arr.data)"
   ]
  },
  {
   "cell_type": "markdown",
   "id": "4b66f790",
   "metadata": {},
   "source": [
    "#### function of NumPy"
   ]
  },
  {
   "cell_type": "code",
   "execution_count": 24,
   "id": "45b94ce8",
   "metadata": {},
   "outputs": [
    {
     "data": {
      "text/plain": [
       "1"
      ]
     },
     "execution_count": 24,
     "metadata": {},
     "output_type": "execute_result"
    }
   ],
   "source": [
    "np.amin(arr)"
   ]
  },
  {
   "cell_type": "code",
   "execution_count": 25,
   "id": "c04cd2e4",
   "metadata": {},
   "outputs": [
    {
     "data": {
      "text/plain": [
       "10"
      ]
     },
     "execution_count": 25,
     "metadata": {},
     "output_type": "execute_result"
    }
   ],
   "source": [
    "np.amax(arr)"
   ]
  },
  {
   "cell_type": "code",
   "execution_count": 26,
   "id": "b7ea8be7",
   "metadata": {},
   "outputs": [
    {
     "data": {
      "text/plain": [
       "5.5"
      ]
     },
     "execution_count": 26,
     "metadata": {},
     "output_type": "execute_result"
    }
   ],
   "source": [
    "np.mean(arr)"
   ]
  },
  {
   "cell_type": "code",
   "execution_count": 27,
   "id": "778202fe",
   "metadata": {},
   "outputs": [
    {
     "data": {
      "text/plain": [
       "5.5"
      ]
     },
     "execution_count": 27,
     "metadata": {},
     "output_type": "execute_result"
    }
   ],
   "source": [
    "np.median(arr)"
   ]
  },
  {
   "cell_type": "code",
   "execution_count": 28,
   "id": "e3b5da51",
   "metadata": {},
   "outputs": [
    {
     "data": {
      "text/plain": [
       "9"
      ]
     },
     "execution_count": 28,
     "metadata": {},
     "output_type": "execute_result"
    }
   ],
   "source": [
    "np.ptp(arr)"
   ]
  },
  {
   "cell_type": "code",
   "execution_count": 29,
   "id": "70611a83",
   "metadata": {},
   "outputs": [
    {
     "data": {
      "text/plain": [
       "2.8722813232690143"
      ]
     },
     "execution_count": 29,
     "metadata": {},
     "output_type": "execute_result"
    }
   ],
   "source": [
    "np.std(arr)"
   ]
  },
  {
   "cell_type": "code",
   "execution_count": 30,
   "id": "3e14aed3",
   "metadata": {},
   "outputs": [
    {
     "data": {
      "text/plain": [
       "8.25"
      ]
     },
     "execution_count": 30,
     "metadata": {},
     "output_type": "execute_result"
    }
   ],
   "source": [
    "np.var(arr)"
   ]
  },
  {
   "cell_type": "code",
   "execution_count": 31,
   "id": "33f6cc97",
   "metadata": {},
   "outputs": [
    {
     "data": {
      "text/plain": [
       "5.5"
      ]
     },
     "execution_count": 31,
     "metadata": {},
     "output_type": "execute_result"
    }
   ],
   "source": [
    "np.average(arr)"
   ]
  },
  {
   "cell_type": "code",
   "execution_count": 54,
   "id": "3ce9b173",
   "metadata": {},
   "outputs": [
    {
     "data": {
      "text/plain": [
       "1.7000000000000002"
      ]
     },
     "execution_count": 54,
     "metadata": {},
     "output_type": "execute_result"
    }
   ],
   "source": [
    "np.percentile(arr,10)"
   ]
  },
  {
   "cell_type": "markdown",
   "id": "e1f2c5fb",
   "metadata": {},
   "source": [
    "\n",
    "# Random number generator using array"
   ]
  },
  {
   "cell_type": "code",
   "execution_count": 41,
   "id": "670749c1",
   "metadata": {},
   "outputs": [],
   "source": [
    "from numpy import random"
   ]
  },
  {
   "cell_type": "code",
   "execution_count": 51,
   "id": "e5c1101c",
   "metadata": {},
   "outputs": [
    {
     "name": "stdout",
     "output_type": "stream",
     "text": [
      "1\n"
     ]
    }
   ],
   "source": [
    "x=random.randint(10)\n",
    "print(x)"
   ]
  },
  {
   "cell_type": "code",
   "execution_count": 53,
   "id": "8cb8b714",
   "metadata": {},
   "outputs": [
    {
     "name": "stdout",
     "output_type": "stream",
     "text": [
      "0.615728159802281\n"
     ]
    }
   ],
   "source": [
    "x=random.rand()\n",
    "print(x)"
   ]
  },
  {
   "cell_type": "code",
   "execution_count": 56,
   "id": "a066c2e8",
   "metadata": {},
   "outputs": [
    {
     "name": "stdout",
     "output_type": "stream",
     "text": [
      "[64 89 54 52 56]\n"
     ]
    }
   ],
   "source": [
    "x=random.randint(100,size=(5))\n",
    "print(x)"
   ]
  },
  {
   "cell_type": "code",
   "execution_count": 58,
   "id": "4f2c47d7",
   "metadata": {},
   "outputs": [
    {
     "name": "stdout",
     "output_type": "stream",
     "text": [
      "[[36 46 54]\n",
      " [41 12 17]\n",
      " [ 1 47 75]]\n"
     ]
    }
   ],
   "source": [
    "x=random.randint(100,size=(3,3))\n",
    "print(x)"
   ]
  },
  {
   "cell_type": "code",
   "execution_count": 61,
   "id": "6bdcbbfc",
   "metadata": {},
   "outputs": [
    {
     "name": "stdout",
     "output_type": "stream",
     "text": [
      "[[95 11 81 70 63]\n",
      " [87 75  9 77 40]\n",
      " [ 4 63 40 60 92]]\n"
     ]
    }
   ],
   "source": [
    "x=random.seed(101)\n",
    "x=random.randint(100,size=(3,5))\n",
    "print(x)"
   ]
  },
  {
   "cell_type": "code",
   "execution_count": 65,
   "id": "d40e723c",
   "metadata": {},
   "outputs": [
    {
     "name": "stdout",
     "output_type": "stream",
     "text": [
      "Horizontal vector\n",
      "[1 2 3]\n",
      "-------------------------------\n",
      "Vertical vector\n",
      "[[10]\n",
      " [20]\n",
      " [30]]\n"
     ]
    }
   ],
   "source": [
    "#1-D List\n",
    "l1=[1,2,3]\n",
    "\n",
    "\n",
    "#1-D vertical\n",
    "l2=[[10],\n",
    "   [20],\n",
    "   [30]]\n",
    "\n",
    "vector1=np.array(l1)\n",
    "vector2=np.array(l2)\n",
    "\n",
    "print(\"Horizontal vector\")\n",
    "print(vector1)\n",
    "\n",
    "print(\"-------------------------------\")\n",
    "\n",
    "print(\"Vertical vector\")\n",
    "print(vector2)\n"
   ]
  },
  {
   "cell_type": "code",
   "execution_count": null,
   "id": "a81e2f42",
   "metadata": {},
   "outputs": [],
   "source": []
  },
  {
   "cell_type": "markdown",
   "id": "c0cbb107",
   "metadata": {},
   "source": [
    "# Creating matrix in numpy"
   ]
  },
  {
   "cell_type": "code",
   "execution_count": 66,
   "id": "df3c001c",
   "metadata": {},
   "outputs": [
    {
     "data": {
      "text/plain": [
       "matrix([[1, 2],\n",
       "        [3, 4]])"
      ]
     },
     "execution_count": 66,
     "metadata": {},
     "output_type": "execute_result"
    }
   ],
   "source": [
    "#string input value\n",
    "a=np.matrix('1 2;3 4')\n",
    "a"
   ]
  },
  {
   "cell_type": "code",
   "execution_count": 68,
   "id": "6029ad91",
   "metadata": {},
   "outputs": [
    {
     "data": {
      "text/plain": [
       "matrix([[1, 2],\n",
       "        [3, 4]])"
      ]
     },
     "execution_count": 68,
     "metadata": {},
     "output_type": "execute_result"
    }
   ],
   "source": [
    "#integer value\n",
    "a=np.matrix([[1,2],[3, 4]])\n",
    "a"
   ]
  },
  {
   "cell_type": "code",
   "execution_count": null,
   "id": "38803f67",
   "metadata": {},
   "outputs": [],
   "source": []
  },
  {
   "cell_type": "markdown",
   "id": "f962ed1b",
   "metadata": {},
   "source": [
    "# Matrix Multiplication in numpy"
   ]
  },
  {
   "cell_type": "code",
   "execution_count": 70,
   "id": "96117fd7",
   "metadata": {},
   "outputs": [
    {
     "name": "stdout",
     "output_type": "stream",
     "text": [
      "[[30 35]\n",
      " [40 45]]\n"
     ]
    }
   ],
   "source": [
    "A= 5\n",
    "\n",
    "B=[[6,7],\n",
    "  [8,9]]\n",
    "print(np.dot(A,B))"
   ]
  },
  {
   "cell_type": "code",
   "execution_count": 74,
   "id": "f388db20",
   "metadata": {},
   "outputs": [
    {
     "name": "stdout",
     "output_type": "stream",
     "text": [
      "[[80 91]\n",
      " [80 92]]\n",
      "------------------------\n",
      "[[ 80  70]\n",
      " [104  92]]\n"
     ]
    }
   ],
   "source": [
    "A= [[4,7],\n",
    "  [8,4]]\n",
    "\n",
    "B=[[6,7],\n",
    "  [8,9]]\n",
    "print(np.dot(A,B))\n",
    "print(\"------------------------\")\n",
    "print(np.dot(B,A))"
   ]
  },
  {
   "cell_type": "code",
   "execution_count": 75,
   "id": "7b173662",
   "metadata": {},
   "outputs": [
    {
     "name": "stdout",
     "output_type": "stream",
     "text": [
      "[[1 4 6]\n",
      " [2 5 7]\n",
      " [3 6 8]]\n"
     ]
    }
   ],
   "source": [
    "A=([1,2,3],\n",
    "  [4,5,6],\n",
    "  [6,7,8])\n",
    "print(np.transpose(A))"
   ]
  },
  {
   "cell_type": "markdown",
   "id": "2c0c79d9",
   "metadata": {},
   "source": [
    "# Percentile & Interquartile in Numpy"
   ]
  },
  {
   "cell_type": "code",
   "execution_count": 1,
   "id": "03180e4e",
   "metadata": {},
   "outputs": [
    {
     "name": "stdout",
     "output_type": "stream",
     "text": [
      "4.5\n",
      "15.5\n",
      "11.0\n"
     ]
    }
   ],
   "source": [
    "import numpy as np \n",
    "\n",
    "data = [1,2,3,4,5,6,7,8,9,0,11,12,13,14,15,16,17,18,19,20]\n",
    "\n",
    "#first Quartile(Q1)\n",
    "Q1 = np.median(data[:10])\n",
    "print(Q1)\n",
    "\n",
    "#second Quartile(Q2)\n",
    "Q2 = np.median(data[10:])\n",
    "print(Q2)\n",
    "\n",
    "IQR=Q2-Q1\n",
    "\n",
    "print(IQR)"
   ]
  },
  {
   "cell_type": "markdown",
   "id": "66ee81d3",
   "metadata": {},
   "source": [
    "# Array Broadcasting in Numpy"
   ]
  },
  {
   "cell_type": "code",
   "execution_count": 2,
   "id": "20a8c5cd",
   "metadata": {},
   "outputs": [
    {
     "data": {
      "text/plain": [
       "array([2., 4., 6.])"
      ]
     },
     "execution_count": 2,
     "metadata": {},
     "output_type": "execute_result"
    }
   ],
   "source": [
    "a= np.array([1.0,2.0,3.0])\n",
    "b=np.array([2.0,2.0,2.0])\n",
    "\n",
    "a*b"
   ]
  },
  {
   "cell_type": "code",
   "execution_count": 4,
   "id": "343ecb0a",
   "metadata": {},
   "outputs": [
    {
     "data": {
      "text/plain": [
       "array([2., 4., 6.])"
      ]
     },
     "execution_count": 4,
     "metadata": {},
     "output_type": "execute_result"
    }
   ],
   "source": [
    "a= np.array([1.0,2.0,3.0])\n",
    "b=2.0\n",
    "\n",
    "a*b"
   ]
  },
  {
   "cell_type": "markdown",
   "id": "acb883be",
   "metadata": {},
   "source": [
    "# Calculate BMI of Cricket Players"
   ]
  },
  {
   "cell_type": "code",
   "execution_count": 3,
   "id": "51666681",
   "metadata": {},
   "outputs": [
    {
     "name": "stdout",
     "output_type": "stream",
     "text": [
      "[1.4945 1.5925 1.568  1.6905 1.715  1.666  1.568  1.5435 1.519  1.617\n",
      " 1.764 ]\n"
     ]
    }
   ],
   "source": [
    "import numpy as np\n",
    "#Height of Players!\n",
    "\n",
    "hg_in =[61,65,64,69,70,68,64,63,62,66,72]\n",
    "\n",
    "#convert into numpy array\n",
    "\n",
    "ht_np = np.array(hg_in)\n",
    "\n",
    "#convert height from inch to meter by exposing it to 0.0245\n",
    "ht_np = ht_np*0.0245\n",
    "\n",
    "print(ht_np)"
   ]
  },
  {
   "cell_type": "code",
   "execution_count": 4,
   "id": "d4765bb0",
   "metadata": {},
   "outputs": [
    {
     "data": {
      "text/plain": [
       "array([45.  , 90.  , 72.  , 81.  , 63.  , 69.75, 74.25, 77.4 , 81.  ,\n",
       "       90.  , 75.6 ])"
      ]
     },
     "execution_count": 4,
     "metadata": {},
     "output_type": "execute_result"
    }
   ],
   "source": [
    "#weight of players in pound\n",
    "wt_pd=[100,200,160,180,140,155,165,172,180,200,168]\n",
    "\n",
    "#convert into array\n",
    "wt_np = np.array(wt_pd)\n",
    "\n",
    "#convert weight from pound to kg by exposing it to 0.45\n",
    "wt_np = wt_np*0.45\n",
    "\n",
    "wt_np"
   ]
  },
  {
   "cell_type": "code",
   "execution_count": 5,
   "id": "8ca8c9f2",
   "metadata": {},
   "outputs": [
    {
     "data": {
      "text/plain": [
       "array([20.1474773 , 35.48817184, 29.28467305, 28.3435777 , 21.41964658,\n",
       "       25.13010006, 30.19981909, 32.48835283, 35.10503991, 34.42091966,\n",
       "       24.29543246])"
      ]
     },
     "execution_count": 5,
     "metadata": {},
     "output_type": "execute_result"
    }
   ],
   "source": [
    "#BMI calculation\n",
    "\n",
    "BMI =wt_np/(ht_np**2)\n",
    "BMI"
   ]
  },
  {
   "cell_type": "code",
   "execution_count": 6,
   "id": "bb56bc26",
   "metadata": {},
   "outputs": [
    {
     "data": {
      "text/plain": [
       "24.295432458697764"
      ]
     },
     "execution_count": 6,
     "metadata": {},
     "output_type": "execute_result"
    }
   ],
   "source": [
    "BMI[-1]"
   ]
  },
  {
   "cell_type": "code",
   "execution_count": 7,
   "id": "886dc4a6",
   "metadata": {},
   "outputs": [
    {
     "data": {
      "text/plain": [
       "array([20.1474773])"
      ]
     },
     "execution_count": 7,
     "metadata": {},
     "output_type": "execute_result"
    }
   ],
   "source": [
    "BMI[BMI<21]"
   ]
  },
  {
   "cell_type": "code",
   "execution_count": 8,
   "id": "eb9a4a6c",
   "metadata": {},
   "outputs": [
    {
     "data": {
      "text/plain": [
       "array([20.1474773 , 35.48817184, 29.28467305, 28.3435777 , 21.41964658])"
      ]
     },
     "execution_count": 8,
     "metadata": {},
     "output_type": "execute_result"
    }
   ],
   "source": [
    "BMI[:5]"
   ]
  },
  {
   "cell_type": "code",
   "execution_count": 10,
   "id": "45c1f616",
   "metadata": {},
   "outputs": [
    {
     "data": {
      "text/plain": [
       "array([[45.    , 90.    , 72.    , 81.    , 63.    , 69.75  , 74.25  ,\n",
       "        77.4   , 81.    , 90.    , 75.6   ],\n",
       "       [ 1.4945,  1.5925,  1.568 ,  1.6905,  1.715 ,  1.666 ,  1.568 ,\n",
       "         1.5435,  1.519 ,  1.617 ,  1.764 ]])"
      ]
     },
     "execution_count": 10,
     "metadata": {},
     "output_type": "execute_result"
    }
   ],
   "source": [
    "players =np.array([wt_np,ht_np])\n",
    "players"
   ]
  },
  {
   "cell_type": "code",
   "execution_count": 11,
   "id": "d17a1290",
   "metadata": {},
   "outputs": [
    {
     "data": {
      "text/plain": [
       "72.0"
      ]
     },
     "execution_count": 11,
     "metadata": {},
     "output_type": "execute_result"
    }
   ],
   "source": [
    "players[0][2]"
   ]
  },
  {
   "cell_type": "code",
   "execution_count": 13,
   "id": "03910218",
   "metadata": {},
   "outputs": [
    {
     "data": {
      "text/plain": [
       "1.568"
      ]
     },
     "execution_count": 13,
     "metadata": {},
     "output_type": "execute_result"
    }
   ],
   "source": [
    "players[1][2]"
   ]
  },
  {
   "cell_type": "code",
   "execution_count": 14,
   "id": "1eb9f91c",
   "metadata": {},
   "outputs": [
    {
     "data": {
      "text/plain": [
       "array([1.4945, 1.5925, 1.568 , 1.6905, 1.715 , 1.666 , 1.568 , 1.5435,\n",
       "       1.519 , 1.617 , 1.764 ])"
      ]
     },
     "execution_count": 14,
     "metadata": {},
     "output_type": "execute_result"
    }
   ],
   "source": [
    "players[1]"
   ]
  },
  {
   "cell_type": "code",
   "execution_count": 17,
   "id": "4b9b34fb",
   "metadata": {},
   "outputs": [
    {
     "data": {
      "text/plain": [
       "array([[45.    ,  1.4945],\n",
       "       [90.    ,  1.5925],\n",
       "       [72.    ,  1.568 ],\n",
       "       [81.    ,  1.6905],\n",
       "       [63.    ,  1.715 ],\n",
       "       [69.75  ,  1.666 ],\n",
       "       [74.25  ,  1.568 ],\n",
       "       [77.4   ,  1.5435],\n",
       "       [81.    ,  1.519 ],\n",
       "       [90.    ,  1.617 ],\n",
       "       [75.6   ,  1.764 ]])"
      ]
     },
     "execution_count": 17,
     "metadata": {},
     "output_type": "execute_result"
    }
   ],
   "source": [
    "#Transpose\n",
    "\n",
    "pT = players.transpose()\n",
    "\n",
    "pT"
   ]
  },
  {
   "cell_type": "code",
   "execution_count": 18,
   "id": "fcf9a1ed",
   "metadata": {},
   "outputs": [
    {
     "data": {
      "text/plain": [
       "(11, 2)"
      ]
     },
     "execution_count": 18,
     "metadata": {},
     "output_type": "execute_result"
    }
   ],
   "source": [
    "pT.shape"
   ]
  },
  {
   "cell_type": "code",
   "execution_count": 22,
   "id": "b9eb07de",
   "metadata": {},
   "outputs": [
    {
     "name": "stdout",
     "output_type": "stream",
     "text": [
      "74.45454545454545\n",
      "75.60000000000001\n",
      "819.0\n",
      "12.082941667443528\n",
      "[[1.         0.16451886]\n",
      " [0.16451886 1.        ]]\n"
     ]
    }
   ],
   "source": [
    "#statical and methematical function on players data\n",
    "\n",
    "print(np.mean(wt_np))\n",
    "print(np.median(wt_np))\n",
    "print(np.sum(wt_np))\n",
    "print(np.std(wt_np))\n",
    "print(np.corrcoef(wt_np,ht_np))\n"
   ]
  },
  {
   "cell_type": "markdown",
   "id": "9f51f4cc",
   "metadata": {},
   "source": [
    "# Area of room task for home work"
   ]
  },
  {
   "cell_type": "code",
   "execution_count": 2,
   "id": "5120bbb7",
   "metadata": {},
   "outputs": [
    {
     "data": {
      "text/plain": [
       "array([10.        ,  9.16666667, 46.66666667, 25.75      , 19.5       ,\n",
       "       24.16666667, 54.16666667, 17.08333333, 16.66666667, 24.16666667])"
      ]
     },
     "execution_count": 2,
     "metadata": {},
     "output_type": "execute_result"
    }
   ],
   "source": [
    "import numpy as np\n",
    "# breadth of area\n",
    "bt_in=[120,110,560,309,234,290,650,205,200,290]\n",
    "\n",
    "# convert into numpy array\n",
    "bt_np=np.array(bt_in)\n",
    "bt_np=bt_np/12\n",
    "bt_np\n"
   ]
  },
  {
   "cell_type": "code",
   "execution_count": 6,
   "id": "66fe4a48",
   "metadata": {},
   "outputs": [
    {
     "data": {
      "text/plain": [
       "array([35.        , 50.83333333, 41.66666667, 17.41666667, 17.        ,\n",
       "       21.66666667, 20.83333333,  8.75      , 20.        , 24.16666667])"
      ]
     },
     "execution_count": 6,
     "metadata": {},
     "output_type": "execute_result"
    }
   ],
   "source": [
    "#lenght of area\n",
    "ln_in=[420,610,500,209,204,260,250,105,240,290]\n",
    "\n",
    "#convert into numpy array\n",
    "ln_np=np.array(ln_in)\n",
    "ln_np=ln_np/12\n",
    "ln_np"
   ]
  },
  {
   "cell_type": "code",
   "execution_count": 7,
   "id": "b584b9bf",
   "metadata": {},
   "outputs": [
    {
     "data": {
      "text/plain": [
       "array([18.33333333, 10.        , 43.33333333,  9.08333333, 18.66666667,\n",
       "       15.83333333, 51.66666667, 18.75      , 19.16666667, 17.5       ])"
      ]
     },
     "execution_count": 7,
     "metadata": {},
     "output_type": "execute_result"
    }
   ],
   "source": [
    "#height of area in room\n",
    "hg_in=[220,120,520,109,224,190,620,225,230,210]\n",
    "\n",
    "#convert into numpy array\n",
    "ht_np=np.array(hg_in)\n",
    "\n",
    "#convert height from inch to foot by exposing 0.0245\n",
    "\n",
    "ht_np=ht_np/12\n",
    "ht_np\n"
   ]
  },
  {
   "cell_type": "code",
   "execution_count": 8,
   "id": "6be04ea3",
   "metadata": {},
   "outputs": [
    {
     "data": {
      "text/plain": [
       "array([ 6416.66666667,  4659.72222222, 84259.25925926,  4073.68576389,\n",
       "        6188.        ,  8290.50925926, 58304.39814815,  2802.734375  ,\n",
       "        6388.88888889, 10220.48611111])"
      ]
     },
     "execution_count": 8,
     "metadata": {},
     "output_type": "execute_result"
    }
   ],
   "source": [
    "#area calculation of room\n",
    "area=ln_np*ht_np*bt_np\n",
    "area"
   ]
  },
  {
   "cell_type": "code",
   "execution_count": null,
   "id": "b29a921b",
   "metadata": {},
   "outputs": [],
   "source": []
  }
 ],
 "metadata": {
  "kernelspec": {
   "display_name": "Python 3 (ipykernel)",
   "language": "python",
   "name": "python3"
  },
  "language_info": {
   "codemirror_mode": {
    "name": "ipython",
    "version": 3
   },
   "file_extension": ".py",
   "mimetype": "text/x-python",
   "name": "python",
   "nbconvert_exporter": "python",
   "pygments_lexer": "ipython3",
   "version": "3.9.12"
  }
 },
 "nbformat": 4,
 "nbformat_minor": 5
}
